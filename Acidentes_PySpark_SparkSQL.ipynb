{
  "nbformat": 4,
  "nbformat_minor": 0,
  "metadata": {
    "colab": {
      "name": "Cópia de Projeto_Final_G03_PySpark/SparkSQL_Acidentes.ipynb",
      "provenance": [],
      "collapsed_sections": []
    },
    "kernelspec": {
      "name": "python3",
      "display_name": "Python 3"
    },
    "language_info": {
      "name": "python"
    }
  },
  "cells": [
    {
      "cell_type": "markdown",
      "metadata": {
        "id": "rqkYTdhrid7f"
      },
      "source": [
        "\n",
        "**INTALAR PYSPARK, IMPORTAR BIBLIOTECAS E ACESSO DO ARQUIVO NA BUCKET**"
      ]
    },
    {
      "cell_type": "code",
      "metadata": {
        "colab": {
          "base_uri": "https://localhost:8080/"
        },
        "id": "YvS1RJztzwjU",
        "outputId": "c79b1c42-0309-40d6-fbc1-d8b4bde29f02"
      },
      "source": [
        "pip install pyspark\n"
      ],
      "execution_count": null,
      "outputs": [
        {
          "output_type": "stream",
          "name": "stdout",
          "text": [
            "Collecting pyspark\n",
            "  Downloading pyspark-3.2.0.tar.gz (281.3 MB)\n",
            "\u001b[K     |████████████████████████████████| 281.3 MB 35 kB/s \n",
            "\u001b[?25hCollecting py4j==0.10.9.2\n",
            "  Downloading py4j-0.10.9.2-py2.py3-none-any.whl (198 kB)\n",
            "\u001b[K     |████████████████████████████████| 198 kB 54.4 MB/s \n",
            "\u001b[?25hBuilding wheels for collected packages: pyspark\n",
            "  Building wheel for pyspark (setup.py) ... \u001b[?25l\u001b[?25hdone\n",
            "  Created wheel for pyspark: filename=pyspark-3.2.0-py2.py3-none-any.whl size=281805912 sha256=cbe3bec383a6bcf6cdd28e54a1a63f05827b750017e4ba456c807f52cdc98f1c\n",
            "  Stored in directory: /root/.cache/pip/wheels/0b/de/d2/9be5d59d7331c6c2a7c1b6d1a4f463ce107332b1ecd4e80718\n",
            "Successfully built pyspark\n",
            "Installing collected packages: py4j, pyspark\n",
            "Successfully installed py4j-0.10.9.2 pyspark-3.2.0\n"
          ]
        }
      ]
    },
    {
      "cell_type": "code",
      "metadata": {
        "id": "rkLOY8a_CLwm"
      },
      "source": [
        "#Autenticação do GCP\n",
        "from google.colab import auth\n",
        "auth.authenticate_user()"
      ],
      "execution_count": null,
      "outputs": []
    },
    {
      "cell_type": "code",
      "metadata": {
        "colab": {
          "base_uri": "https://localhost:8080/"
        },
        "id": "39JwrNtZCU1l",
        "outputId": "e7fc4781-2d30-4509-98ad-708c39a88d6e"
      },
      "source": [
        "#Selecionar o projeto\n",
        "project_id = 'projeto-final-grupo03'\n",
        "!gcloud config set project projeto-final-grupo03"
      ],
      "execution_count": null,
      "outputs": [
        {
          "output_type": "stream",
          "name": "stdout",
          "text": [
            "Updated property [core/project].\n"
          ]
        }
      ]
    },
    {
      "cell_type": "code",
      "metadata": {
        "id": "8kb73OexC1AE",
        "colab": {
          "base_uri": "https://localhost:8080/"
        },
        "outputId": "2ffa147e-bb50-43ad-92fa-4a548d1ed993"
      },
      "source": [
        "#Download do arquivo de um bucket no Google Cloud Storage\n",
        "!gsutil cp gs://notebooks_pandas_gp03/acidentes_tratado.csv /tmp/acidentes_tratado.csv\n"
      ],
      "execution_count": null,
      "outputs": [
        {
          "output_type": "stream",
          "name": "stdout",
          "text": [
            "Copying gs://notebooks_pandas_gp03/acidentes_tratado.csv...\n",
            "| [1 files][ 45.8 MiB/ 45.8 MiB]                                                \n",
            "Operation completed over 1 objects/45.8 MiB.                                     \n"
          ]
        }
      ]
    },
    {
      "cell_type": "code",
      "metadata": {
        "id": "sTSCTJ6oDsmD"
      },
      "source": [
        "#Print do resultado para garantir que a transferencia funcionou.\n",
        "#!cat /tmp/acidentes_tratado.csv"
      ],
      "execution_count": null,
      "outputs": []
    },
    {
      "cell_type": "code",
      "metadata": {
        "id": "Uz8uXwE80GcN"
      },
      "source": [
        "#IMPORTAR BIBLIOTECAS\n",
        "import pyspark.sql.functions as F\n",
        "from pyspark.sql import Window\n",
        "from pyspark.sql import SparkSession\n"
      ],
      "execution_count": null,
      "outputs": []
    },
    {
      "cell_type": "code",
      "metadata": {
        "id": "LdAMG_dx1ySY"
      },
      "source": [
        "#INICIAR SESSÃO DO PYSPARK\n",
        "spark = (SparkSession.builder\n",
        "        .master(\"local\")\n",
        "        .appName(\"dataframe_projeto\")\n",
        "        .config(\"spark.ui.port', '4050\") \n",
        "        .getOrCreate())"
      ],
      "execution_count": null,
      "outputs": []
    },
    {
      "cell_type": "code",
      "metadata": {
        "colab": {
          "base_uri": "https://localhost:8080/",
          "height": 219
        },
        "id": "Nz95bGET14km",
        "outputId": "b47805b9-4d05-4684-e60e-0f119285721f"
      },
      "source": [
        "spark"
      ],
      "execution_count": null,
      "outputs": [
        {
          "output_type": "execute_result",
          "data": {
            "text/html": [
              "\n",
              "            <div>\n",
              "                <p><b>SparkSession - in-memory</b></p>\n",
              "                \n",
              "        <div>\n",
              "            <p><b>SparkContext</b></p>\n",
              "\n",
              "            <p><a href=\"http://52e384779c38:4040\">Spark UI</a></p>\n",
              "\n",
              "            <dl>\n",
              "              <dt>Version</dt>\n",
              "                <dd><code>v3.2.0</code></dd>\n",
              "              <dt>Master</dt>\n",
              "                <dd><code>local</code></dd>\n",
              "              <dt>AppName</dt>\n",
              "                <dd><code>dataframe_projeto</code></dd>\n",
              "            </dl>\n",
              "        </div>\n",
              "        \n",
              "            </div>\n",
              "        "
            ],
            "text/plain": [
              "<pyspark.sql.session.SparkSession at 0x7faea365e090>"
            ]
          },
          "metadata": {},
          "execution_count": 7
        }
      ]
    },
    {
      "cell_type": "markdown",
      "metadata": {
        "id": "fJvOatyMNOmd"
      },
      "source": [
        "EXTRAÇÃO DOS DADOS"
      ]
    },
    {
      "cell_type": "code",
      "metadata": {
        "id": "sK6Aeri_3EEv"
      },
      "source": [
        "#IMPORTAR DATAFRAME A PARTIR DO ARQUIVO CSV ANTERIORMENTE NORMALIZADO DO PANDAS\n",
        "df = (spark.read.format('csv')\n",
        "      .option(\"inferSchema\", True)\n",
        "      .option(\"header\", True)\n",
        "      .option('sep', ',')\n",
        "      .load('/tmp/acidentes_tratado.csv')\n",
        "\n",
        ")\n"
      ],
      "execution_count": null,
      "outputs": []
    },
    {
      "cell_type": "code",
      "metadata": {
        "colab": {
          "base_uri": "https://localhost:8080/"
        },
        "collapsed": true,
        "id": "2-b59KufjehG",
        "outputId": "96dc7461-be74-42d7-8bda-6a8955b4ee68"
      },
      "source": [
        "#MOSTRA O ESQUEMA DO DATAFRAME\n",
        "\n",
        "df.printSchema()"
      ],
      "execution_count": null,
      "outputs": [
        {
          "output_type": "stream",
          "name": "stdout",
          "text": [
            "root\n",
            " |-- _c0: integer (nullable = true)\n",
            " |-- id_acidente: integer (nullable = true)\n",
            " |-- id_pessoa: integer (nullable = true)\n",
            " |-- data: string (nullable = true)\n",
            " |-- dia_semana: string (nullable = true)\n",
            " |-- horario: string (nullable = true)\n",
            " |-- uf: string (nullable = true)\n",
            " |-- rodovia_br: integer (nullable = true)\n",
            " |-- causa_acidente: string (nullable = true)\n",
            " |-- classificacao_acidente: string (nullable = true)\n",
            " |-- condicao_metereologica: string (nullable = true)\n",
            " |-- tipo_envolvido: string (nullable = true)\n",
            " |-- estado_fisico: string (nullable = true)\n",
            " |-- idade: integer (nullable = true)\n",
            " |-- sexo: string (nullable = true)\n",
            "\n"
          ]
        }
      ]
    },
    {
      "cell_type": "markdown",
      "metadata": {
        "id": "55j_mKPx-w9e"
      },
      "source": [
        "**ALTERAÇÔES PYSPARK**"
      ]
    },
    {
      "cell_type": "code",
      "metadata": {
        "id": "chKBi8mIQVFY"
      },
      "source": [
        "# MUDAR O TIPO DE DATA PARA DATE COM  CAST\n",
        "\n",
        "df = df.withColumn(\"data\", df.data.cast(\"date\"))"
      ],
      "execution_count": null,
      "outputs": []
    },
    {
      "cell_type": "code",
      "metadata": {
        "colab": {
          "base_uri": "https://localhost:8080/"
        },
        "id": "bmDzIWse38Et",
        "collapsed": true,
        "outputId": "088f1b37-2aee-444a-faef-6e9bcfdea728"
      },
      "source": [
        "#MOSTRA O DATAFRAME\n",
        "df.show()\n"
      ],
      "execution_count": null,
      "outputs": [
        {
          "output_type": "stream",
          "name": "stdout",
          "text": [
            "+---+-----------+---------+----------+------------+--------+---+----------+--------------------+----------------------+----------------------+--------------+-------------+-----+-------------+\n",
            "|_c0|id_acidente|id_pessoa|      data|  dia_semana| horario| uf|rodovia_br|      causa_acidente|classificacao_acidente|condicao_metereologica|tipo_envolvido|estado_fisico|idade|         sexo|\n",
            "+---+-----------+---------+----------+------------+--------+---+----------+--------------------+----------------------+----------------------+--------------+-------------+-----+-------------+\n",
            "|  0|     182256|   403856|2019-01-01| terça-feira|04:00:00| CE|       116|    Animais na Pista|           Sem Vítimas|                 Vento|      Condutor|        Ileso|   35|    Masculino|\n",
            "|  1|     182263|   402859|2019-01-01| terça-feira|05:00:00| MT|       158|Defeito Mecânico ...|           Sem Vítimas|        Garoa/Chuvisco|      Condutor|        Ileso|   30|    Masculino|\n",
            "|  2|     182277|   402850|2019-01-01| terça-feira|10:00:00| PA|        10|Velocidade Incomp...|           Sem Vítimas|               Nublado|      Condutor|        Ileso|   54|    Masculino|\n",
            "|  3|     182289|   402431|2019-01-01| terça-feira|08:30:00| BA|       101|Ingestão de Álcoo...|   Com Vítimas Feridas|             Céu Claro|      Condutor|        Ileso|   43|    Masculino|\n",
            "|  4|     182307|   402642|2019-01-01| terça-feira|13:50:00| BA|       116|Ingestão de Álcoo...|   Com Vítimas Feridas|             Céu Claro|    Passageiro|Lesões Graves|   37|    Masculino|\n",
            "|  5|     182307|   402638|2019-01-01| terça-feira|13:50:00| BA|       116|Ingestão de Álcoo...|   Com Vítimas Feridas|             Céu Claro|      Condutor| Lesões Leves|   57|    Masculino|\n",
            "|  6|     182316|   402361|2019-01-01| terça-feira|15:15:00| RS|       101|Falta de Atenção ...|           Sem Vítimas|             Céu Claro|      Condutor|        Ileso|   28|    Masculino|\n",
            "|  7|     182334|   402401|2019-01-01| terça-feira|14:45:00| SE|       101|Falta de Atenção ...|   Com Vítimas Feridas|                   Sol|      Condutor|Não Informado| null|Não Informado|\n",
            "|  8|     182361|   402521|2019-01-01| terça-feira|10:00:00| MG|       251|Ultrapassagem Ind...|   Com Vítimas Feridas|                   Sol|      Condutor| Lesões Leves|   52|    Masculino|\n",
            "|  9|     182362|   404322|2019-01-01| terça-feira|18:20:00| PE|       101|Ingestão de Álcoo...|           Sem Vítimas|             Céu Claro|      Condutor|        Ileso|   59|    Masculino|\n",
            "| 10|     182410|   404399|2019-01-01| terça-feira|12:00:00| MG|        40|  Pista Escorregadia|           Sem Vítimas|                 Chuva|      Condutor|        Ileso|   48|    Masculino|\n",
            "| 11|     182433|   404380|2019-01-01| terça-feira|19:20:00| RJ|        40|Ingestão de Álcoo...|           Sem Vítimas|               Nublado|      Condutor|        Ileso|   49|    Masculino|\n",
            "| 12|     182443|   404484|2019-01-02|quarta-feira|06:40:00| RJ|       116|Carga Excessiva e...|   Com Vítimas Feridas|             Céu Claro|      Condutor| Lesões Leves|   42|    Masculino|\n",
            "| 13|     182451|   402669|2019-01-02|quarta-feira|07:35:00| RS|       386|   Condutor Dormindo|   Com Vítimas Feridas|             Céu Claro|      Condutor|        Ileso|   40|    Masculino|\n",
            "| 14|     182459|   402929|2019-01-02|quarta-feira|08:50:00| MG|       262|Defeito Mecânico ...|           Sem Vítimas|             Céu Claro|      Condutor|        Ileso|   36|    Masculino|\n",
            "| 15|     182459|   403072|2019-01-02|quarta-feira|08:50:00| MG|       262|Defeito Mecânico ...|           Sem Vítimas|             Céu Claro|    Passageiro|        Ileso|   30|    Masculino|\n",
            "| 16|     182472|   405393|2019-01-02|quarta-feira|08:25:00| CE|       116|Falta de Atenção ...|           Sem Vítimas|             Céu Claro|      Condutor|        Ileso|   43|    Masculino|\n",
            "| 17|     182486|   403142|2019-01-02|quarta-feira|10:45:00| SP|       116|   Condutor Dormindo|   Com Vítimas Feridas|                   Sol|      Pedestre| Lesões Leves|   48|     Feminino|\n",
            "| 18|     182486|   402972|2019-01-02|quarta-feira|10:45:00| SP|       116|   Condutor Dormindo|   Com Vítimas Feridas|                   Sol|      Condutor|        Ileso|   39|    Masculino|\n",
            "| 19|     182486|   403140|2019-01-02|quarta-feira|10:45:00| SP|       116|   Condutor Dormindo|   Com Vítimas Feridas|                   Sol|    Passageiro|        Ileso|   26|    Masculino|\n",
            "+---+-----------+---------+----------+------------+--------+---+----------+--------------------+----------------------+----------------------+--------------+-------------+-----+-------------+\n",
            "only showing top 20 rows\n",
            "\n"
          ]
        }
      ]
    },
    {
      "cell_type": "code",
      "metadata": {
        "colab": {
          "base_uri": "https://localhost:8080/"
        },
        "id": "lo29fcX0FwyV",
        "outputId": "684e9902-692c-4285-f183-7cba0dcacc8a"
      },
      "source": [
        "df.printSchema()"
      ],
      "execution_count": null,
      "outputs": [
        {
          "output_type": "stream",
          "name": "stdout",
          "text": [
            "root\n",
            " |-- _c0: integer (nullable = true)\n",
            " |-- id_acidente: integer (nullable = true)\n",
            " |-- id_pessoa: integer (nullable = true)\n",
            " |-- data: date (nullable = true)\n",
            " |-- dia_semana: string (nullable = true)\n",
            " |-- horario: string (nullable = true)\n",
            " |-- uf: string (nullable = true)\n",
            " |-- rodovia_br: integer (nullable = true)\n",
            " |-- causa_acidente: string (nullable = true)\n",
            " |-- classificacao_acidente: string (nullable = true)\n",
            " |-- condicao_metereologica: string (nullable = true)\n",
            " |-- tipo_envolvido: string (nullable = true)\n",
            " |-- estado_fisico: string (nullable = true)\n",
            " |-- idade: integer (nullable = true)\n",
            " |-- sexo: string (nullable = true)\n",
            "\n"
          ]
        }
      ]
    },
    {
      "cell_type": "code",
      "metadata": {
        "id": "CNHrdMmg6ofu",
        "collapsed": true
      },
      "source": [
        "#CRIA NOVA COLUNA COM CLASSIFICAÇÃO DE REGIÃO DO BRASIL \n",
        "\n",
        "df1 = (df.withColumn('regiao', \n",
        "                     F.when((df.uf == 'PR') | (df.uf == 'RS') | (df.uf == 'SC'), 'Sul')\n",
        "                      .when((df.uf == 'SP') | (df.uf == 'RJ') | (df.uf == 'MG') | (df.uf == 'ES'), 'Sudeste')\n",
        "                      .when((df.uf == 'MT') | (df.uf == 'DF') | (df.uf == 'GO') | (df.uf == 'MS'), 'Centro-Oeste')\n",
        "                      .when((df.uf == 'RR') | (df.uf == 'AP') | (df.uf == 'AM') | (df.uf == 'PA') | (df.uf == 'AC') \n",
        "                      | (df.uf == 'RO') | (df.uf == 'TO'), 'Norte').otherwise('Nordeste')))\n"
      ],
      "execution_count": null,
      "outputs": []
    },
    {
      "cell_type": "code",
      "metadata": {
        "colab": {
          "base_uri": "https://localhost:8080/"
        },
        "id": "-zKIwWGrziM2",
        "outputId": "29cadc55-6336-4515-b1bf-4d3fe499e1dd"
      },
      "source": [
        "df1.show()"
      ],
      "execution_count": null,
      "outputs": [
        {
          "output_type": "stream",
          "name": "stdout",
          "text": [
            "+---+-----------+---------+----------+------------+--------+---+----------+--------------------+----------------------+----------------------+--------------+-------------+-----+-------------+------------+\n",
            "|_c0|id_acidente|id_pessoa|      data|  dia_semana| horario| uf|rodovia_br|      causa_acidente|classificacao_acidente|condicao_metereologica|tipo_envolvido|estado_fisico|idade|         sexo|      regiao|\n",
            "+---+-----------+---------+----------+------------+--------+---+----------+--------------------+----------------------+----------------------+--------------+-------------+-----+-------------+------------+\n",
            "|  0|     182256|   403856|2019-01-01| terça-feira|04:00:00| CE|       116|    Animais na Pista|           Sem Vítimas|                 Vento|      Condutor|        Ileso|   35|    Masculino|    Nordeste|\n",
            "|  1|     182263|   402859|2019-01-01| terça-feira|05:00:00| MT|       158|Defeito Mecânico ...|           Sem Vítimas|        Garoa/Chuvisco|      Condutor|        Ileso|   30|    Masculino|Centro-Oeste|\n",
            "|  2|     182277|   402850|2019-01-01| terça-feira|10:00:00| PA|        10|Velocidade Incomp...|           Sem Vítimas|               Nublado|      Condutor|        Ileso|   54|    Masculino|       Norte|\n",
            "|  3|     182289|   402431|2019-01-01| terça-feira|08:30:00| BA|       101|Ingestão de Álcoo...|   Com Vítimas Feridas|             Céu Claro|      Condutor|        Ileso|   43|    Masculino|    Nordeste|\n",
            "|  4|     182307|   402642|2019-01-01| terça-feira|13:50:00| BA|       116|Ingestão de Álcoo...|   Com Vítimas Feridas|             Céu Claro|    Passageiro|Lesões Graves|   37|    Masculino|    Nordeste|\n",
            "|  5|     182307|   402638|2019-01-01| terça-feira|13:50:00| BA|       116|Ingestão de Álcoo...|   Com Vítimas Feridas|             Céu Claro|      Condutor| Lesões Leves|   57|    Masculino|    Nordeste|\n",
            "|  6|     182316|   402361|2019-01-01| terça-feira|15:15:00| RS|       101|Falta de Atenção ...|           Sem Vítimas|             Céu Claro|      Condutor|        Ileso|   28|    Masculino|         Sul|\n",
            "|  7|     182334|   402401|2019-01-01| terça-feira|14:45:00| SE|       101|Falta de Atenção ...|   Com Vítimas Feridas|                   Sol|      Condutor|Não Informado| null|Não Informado|    Nordeste|\n",
            "|  8|     182361|   402521|2019-01-01| terça-feira|10:00:00| MG|       251|Ultrapassagem Ind...|   Com Vítimas Feridas|                   Sol|      Condutor| Lesões Leves|   52|    Masculino|     Sudeste|\n",
            "|  9|     182362|   404322|2019-01-01| terça-feira|18:20:00| PE|       101|Ingestão de Álcoo...|           Sem Vítimas|             Céu Claro|      Condutor|        Ileso|   59|    Masculino|    Nordeste|\n",
            "| 10|     182410|   404399|2019-01-01| terça-feira|12:00:00| MG|        40|  Pista Escorregadia|           Sem Vítimas|                 Chuva|      Condutor|        Ileso|   48|    Masculino|     Sudeste|\n",
            "| 11|     182433|   404380|2019-01-01| terça-feira|19:20:00| RJ|        40|Ingestão de Álcoo...|           Sem Vítimas|               Nublado|      Condutor|        Ileso|   49|    Masculino|     Sudeste|\n",
            "| 12|     182443|   404484|2019-01-02|quarta-feira|06:40:00| RJ|       116|Carga Excessiva e...|   Com Vítimas Feridas|             Céu Claro|      Condutor| Lesões Leves|   42|    Masculino|     Sudeste|\n",
            "| 13|     182451|   402669|2019-01-02|quarta-feira|07:35:00| RS|       386|   Condutor Dormindo|   Com Vítimas Feridas|             Céu Claro|      Condutor|        Ileso|   40|    Masculino|         Sul|\n",
            "| 14|     182459|   402929|2019-01-02|quarta-feira|08:50:00| MG|       262|Defeito Mecânico ...|           Sem Vítimas|             Céu Claro|      Condutor|        Ileso|   36|    Masculino|     Sudeste|\n",
            "| 15|     182459|   403072|2019-01-02|quarta-feira|08:50:00| MG|       262|Defeito Mecânico ...|           Sem Vítimas|             Céu Claro|    Passageiro|        Ileso|   30|    Masculino|     Sudeste|\n",
            "| 16|     182472|   405393|2019-01-02|quarta-feira|08:25:00| CE|       116|Falta de Atenção ...|           Sem Vítimas|             Céu Claro|      Condutor|        Ileso|   43|    Masculino|    Nordeste|\n",
            "| 17|     182486|   403142|2019-01-02|quarta-feira|10:45:00| SP|       116|   Condutor Dormindo|   Com Vítimas Feridas|                   Sol|      Pedestre| Lesões Leves|   48|     Feminino|     Sudeste|\n",
            "| 18|     182486|   402972|2019-01-02|quarta-feira|10:45:00| SP|       116|   Condutor Dormindo|   Com Vítimas Feridas|                   Sol|      Condutor|        Ileso|   39|    Masculino|     Sudeste|\n",
            "| 19|     182486|   403140|2019-01-02|quarta-feira|10:45:00| SP|       116|   Condutor Dormindo|   Com Vítimas Feridas|                   Sol|    Passageiro|        Ileso|   26|    Masculino|     Sudeste|\n",
            "+---+-----------+---------+----------+------------+--------+---+----------+--------------------+----------------------+----------------------+--------------+-------------+-----+-------------+------------+\n",
            "only showing top 20 rows\n",
            "\n"
          ]
        }
      ]
    },
    {
      "cell_type": "code",
      "metadata": {
        "id": "ig4sQoCSEZkT"
      },
      "source": [
        "#DROPANDO INDEX\n",
        "\n",
        "df1 = df1.drop('_c0')"
      ],
      "execution_count": null,
      "outputs": []
    },
    {
      "cell_type": "code",
      "metadata": {
        "colab": {
          "base_uri": "https://localhost:8080/"
        },
        "id": "JF2w6nE1FZYO",
        "outputId": "38abfbf0-a9b5-4377-e2c0-6fc15036a9a6"
      },
      "source": [
        "df1.show()"
      ],
      "execution_count": null,
      "outputs": [
        {
          "output_type": "stream",
          "name": "stdout",
          "text": [
            "+-----------+---------+----------+------------+--------+---+----------+--------------------+----------------------+----------------------+--------------+-------------+-----+-------------+------------+\n",
            "|id_acidente|id_pessoa|      data|  dia_semana| horario| uf|rodovia_br|      causa_acidente|classificacao_acidente|condicao_metereologica|tipo_envolvido|estado_fisico|idade|         sexo|      regiao|\n",
            "+-----------+---------+----------+------------+--------+---+----------+--------------------+----------------------+----------------------+--------------+-------------+-----+-------------+------------+\n",
            "|     182256|   403856|2019-01-01| terça-feira|04:00:00| CE|       116|    Animais na Pista|           Sem Vítimas|                 Vento|      Condutor|        Ileso|   35|    Masculino|    Nordeste|\n",
            "|     182263|   402859|2019-01-01| terça-feira|05:00:00| MT|       158|Defeito Mecânico ...|           Sem Vítimas|        Garoa/Chuvisco|      Condutor|        Ileso|   30|    Masculino|Centro-Oeste|\n",
            "|     182277|   402850|2019-01-01| terça-feira|10:00:00| PA|        10|Velocidade Incomp...|           Sem Vítimas|               Nublado|      Condutor|        Ileso|   54|    Masculino|       Norte|\n",
            "|     182289|   402431|2019-01-01| terça-feira|08:30:00| BA|       101|Ingestão de Álcoo...|   Com Vítimas Feridas|             Céu Claro|      Condutor|        Ileso|   43|    Masculino|    Nordeste|\n",
            "|     182307|   402642|2019-01-01| terça-feira|13:50:00| BA|       116|Ingestão de Álcoo...|   Com Vítimas Feridas|             Céu Claro|    Passageiro|Lesões Graves|   37|    Masculino|    Nordeste|\n",
            "|     182307|   402638|2019-01-01| terça-feira|13:50:00| BA|       116|Ingestão de Álcoo...|   Com Vítimas Feridas|             Céu Claro|      Condutor| Lesões Leves|   57|    Masculino|    Nordeste|\n",
            "|     182316|   402361|2019-01-01| terça-feira|15:15:00| RS|       101|Falta de Atenção ...|           Sem Vítimas|             Céu Claro|      Condutor|        Ileso|   28|    Masculino|         Sul|\n",
            "|     182334|   402401|2019-01-01| terça-feira|14:45:00| SE|       101|Falta de Atenção ...|   Com Vítimas Feridas|                   Sol|      Condutor|Não Informado| null|Não Informado|    Nordeste|\n",
            "|     182361|   402521|2019-01-01| terça-feira|10:00:00| MG|       251|Ultrapassagem Ind...|   Com Vítimas Feridas|                   Sol|      Condutor| Lesões Leves|   52|    Masculino|     Sudeste|\n",
            "|     182362|   404322|2019-01-01| terça-feira|18:20:00| PE|       101|Ingestão de Álcoo...|           Sem Vítimas|             Céu Claro|      Condutor|        Ileso|   59|    Masculino|    Nordeste|\n",
            "|     182410|   404399|2019-01-01| terça-feira|12:00:00| MG|        40|  Pista Escorregadia|           Sem Vítimas|                 Chuva|      Condutor|        Ileso|   48|    Masculino|     Sudeste|\n",
            "|     182433|   404380|2019-01-01| terça-feira|19:20:00| RJ|        40|Ingestão de Álcoo...|           Sem Vítimas|               Nublado|      Condutor|        Ileso|   49|    Masculino|     Sudeste|\n",
            "|     182443|   404484|2019-01-02|quarta-feira|06:40:00| RJ|       116|Carga Excessiva e...|   Com Vítimas Feridas|             Céu Claro|      Condutor| Lesões Leves|   42|    Masculino|     Sudeste|\n",
            "|     182451|   402669|2019-01-02|quarta-feira|07:35:00| RS|       386|   Condutor Dormindo|   Com Vítimas Feridas|             Céu Claro|      Condutor|        Ileso|   40|    Masculino|         Sul|\n",
            "|     182459|   402929|2019-01-02|quarta-feira|08:50:00| MG|       262|Defeito Mecânico ...|           Sem Vítimas|             Céu Claro|      Condutor|        Ileso|   36|    Masculino|     Sudeste|\n",
            "|     182459|   403072|2019-01-02|quarta-feira|08:50:00| MG|       262|Defeito Mecânico ...|           Sem Vítimas|             Céu Claro|    Passageiro|        Ileso|   30|    Masculino|     Sudeste|\n",
            "|     182472|   405393|2019-01-02|quarta-feira|08:25:00| CE|       116|Falta de Atenção ...|           Sem Vítimas|             Céu Claro|      Condutor|        Ileso|   43|    Masculino|    Nordeste|\n",
            "|     182486|   403142|2019-01-02|quarta-feira|10:45:00| SP|       116|   Condutor Dormindo|   Com Vítimas Feridas|                   Sol|      Pedestre| Lesões Leves|   48|     Feminino|     Sudeste|\n",
            "|     182486|   402972|2019-01-02|quarta-feira|10:45:00| SP|       116|   Condutor Dormindo|   Com Vítimas Feridas|                   Sol|      Condutor|        Ileso|   39|    Masculino|     Sudeste|\n",
            "|     182486|   403140|2019-01-02|quarta-feira|10:45:00| SP|       116|   Condutor Dormindo|   Com Vítimas Feridas|                   Sol|    Passageiro|        Ileso|   26|    Masculino|     Sudeste|\n",
            "+-----------+---------+----------+------------+--------+---+----------+--------------------+----------------------+----------------------+--------------+-------------+-----+-------------+------------+\n",
            "only showing top 20 rows\n",
            "\n"
          ]
        }
      ]
    },
    {
      "cell_type": "code",
      "metadata": {
        "id": "pI0LbKn6f6c6"
      },
      "source": [
        "#CRIA NOVA COLUNA COM MÊS\n",
        "\n",
        "df2 = df1.withColumn('mes', F.month(df1.data))\n"
      ],
      "execution_count": null,
      "outputs": []
    },
    {
      "cell_type": "code",
      "metadata": {
        "id": "KOuQ6LynhNnN"
      },
      "source": [
        "#CRIA NOVA COLUNA COM ANO\n",
        "\n",
        "df2 = df2.withColumn('ano', F.year(df2.data))"
      ],
      "execution_count": null,
      "outputs": []
    },
    {
      "cell_type": "code",
      "metadata": {
        "colab": {
          "base_uri": "https://localhost:8080/"
        },
        "id": "_4bcQM-zp822",
        "outputId": "10285ddc-6316-4786-9258-79bb5f499dbf"
      },
      "source": [
        "df2.show()"
      ],
      "execution_count": null,
      "outputs": [
        {
          "output_type": "stream",
          "name": "stdout",
          "text": [
            "+-----------+---------+----------+------------+--------+---+----------+--------------------+----------------------+----------------------+--------------+-------------+-----+-------------+------------+---+----+\n",
            "|id_acidente|id_pessoa|      data|  dia_semana| horario| uf|rodovia_br|      causa_acidente|classificacao_acidente|condicao_metereologica|tipo_envolvido|estado_fisico|idade|         sexo|      regiao|mes| ano|\n",
            "+-----------+---------+----------+------------+--------+---+----------+--------------------+----------------------+----------------------+--------------+-------------+-----+-------------+------------+---+----+\n",
            "|     182256|   403856|2019-01-01| terça-feira|04:00:00| CE|       116|    Animais na Pista|           Sem Vítimas|                 Vento|      Condutor|        Ileso|   35|    Masculino|    Nordeste|  1|2019|\n",
            "|     182263|   402859|2019-01-01| terça-feira|05:00:00| MT|       158|Defeito Mecânico ...|           Sem Vítimas|        Garoa/Chuvisco|      Condutor|        Ileso|   30|    Masculino|Centro-Oeste|  1|2019|\n",
            "|     182277|   402850|2019-01-01| terça-feira|10:00:00| PA|        10|Velocidade Incomp...|           Sem Vítimas|               Nublado|      Condutor|        Ileso|   54|    Masculino|       Norte|  1|2019|\n",
            "|     182289|   402431|2019-01-01| terça-feira|08:30:00| BA|       101|Ingestão de Álcoo...|   Com Vítimas Feridas|             Céu Claro|      Condutor|        Ileso|   43|    Masculino|    Nordeste|  1|2019|\n",
            "|     182307|   402642|2019-01-01| terça-feira|13:50:00| BA|       116|Ingestão de Álcoo...|   Com Vítimas Feridas|             Céu Claro|    Passageiro|Lesões Graves|   37|    Masculino|    Nordeste|  1|2019|\n",
            "|     182307|   402638|2019-01-01| terça-feira|13:50:00| BA|       116|Ingestão de Álcoo...|   Com Vítimas Feridas|             Céu Claro|      Condutor| Lesões Leves|   57|    Masculino|    Nordeste|  1|2019|\n",
            "|     182316|   402361|2019-01-01| terça-feira|15:15:00| RS|       101|Falta de Atenção ...|           Sem Vítimas|             Céu Claro|      Condutor|        Ileso|   28|    Masculino|         Sul|  1|2019|\n",
            "|     182334|   402401|2019-01-01| terça-feira|14:45:00| SE|       101|Falta de Atenção ...|   Com Vítimas Feridas|                   Sol|      Condutor|Não Informado| null|Não Informado|    Nordeste|  1|2019|\n",
            "|     182361|   402521|2019-01-01| terça-feira|10:00:00| MG|       251|Ultrapassagem Ind...|   Com Vítimas Feridas|                   Sol|      Condutor| Lesões Leves|   52|    Masculino|     Sudeste|  1|2019|\n",
            "|     182362|   404322|2019-01-01| terça-feira|18:20:00| PE|       101|Ingestão de Álcoo...|           Sem Vítimas|             Céu Claro|      Condutor|        Ileso|   59|    Masculino|    Nordeste|  1|2019|\n",
            "|     182410|   404399|2019-01-01| terça-feira|12:00:00| MG|        40|  Pista Escorregadia|           Sem Vítimas|                 Chuva|      Condutor|        Ileso|   48|    Masculino|     Sudeste|  1|2019|\n",
            "|     182433|   404380|2019-01-01| terça-feira|19:20:00| RJ|        40|Ingestão de Álcoo...|           Sem Vítimas|               Nublado|      Condutor|        Ileso|   49|    Masculino|     Sudeste|  1|2019|\n",
            "|     182443|   404484|2019-01-02|quarta-feira|06:40:00| RJ|       116|Carga Excessiva e...|   Com Vítimas Feridas|             Céu Claro|      Condutor| Lesões Leves|   42|    Masculino|     Sudeste|  1|2019|\n",
            "|     182451|   402669|2019-01-02|quarta-feira|07:35:00| RS|       386|   Condutor Dormindo|   Com Vítimas Feridas|             Céu Claro|      Condutor|        Ileso|   40|    Masculino|         Sul|  1|2019|\n",
            "|     182459|   402929|2019-01-02|quarta-feira|08:50:00| MG|       262|Defeito Mecânico ...|           Sem Vítimas|             Céu Claro|      Condutor|        Ileso|   36|    Masculino|     Sudeste|  1|2019|\n",
            "|     182459|   403072|2019-01-02|quarta-feira|08:50:00| MG|       262|Defeito Mecânico ...|           Sem Vítimas|             Céu Claro|    Passageiro|        Ileso|   30|    Masculino|     Sudeste|  1|2019|\n",
            "|     182472|   405393|2019-01-02|quarta-feira|08:25:00| CE|       116|Falta de Atenção ...|           Sem Vítimas|             Céu Claro|      Condutor|        Ileso|   43|    Masculino|    Nordeste|  1|2019|\n",
            "|     182486|   403142|2019-01-02|quarta-feira|10:45:00| SP|       116|   Condutor Dormindo|   Com Vítimas Feridas|                   Sol|      Pedestre| Lesões Leves|   48|     Feminino|     Sudeste|  1|2019|\n",
            "|     182486|   402972|2019-01-02|quarta-feira|10:45:00| SP|       116|   Condutor Dormindo|   Com Vítimas Feridas|                   Sol|      Condutor|        Ileso|   39|    Masculino|     Sudeste|  1|2019|\n",
            "|     182486|   403140|2019-01-02|quarta-feira|10:45:00| SP|       116|   Condutor Dormindo|   Com Vítimas Feridas|                   Sol|    Passageiro|        Ileso|   26|    Masculino|     Sudeste|  1|2019|\n",
            "+-----------+---------+----------+------------+--------+---+----------+--------------------+----------------------+----------------------+--------------+-------------+-----+-------------+------------+---+----+\n",
            "only showing top 20 rows\n",
            "\n"
          ]
        }
      ]
    },
    {
      "cell_type": "code",
      "metadata": {
        "colab": {
          "base_uri": "https://localhost:8080/"
        },
        "id": "0SsZh4z54wll",
        "outputId": "ff603f44-66f5-4381-8352-94159646837a"
      },
      "source": [
        "# FILTRO DATA INÍCIO PANDEMIA\n",
        "\n",
        "filtroData = df3.filter((df3[\"data\"] > \"2020-03-01\") & (df3[\"data\"] < \"2020-03-30\")).show(10)"
      ],
      "execution_count": null,
      "outputs": [
        {
          "output_type": "stream",
          "name": "stdout",
          "text": [
            "+-----------+---------+----------+-------------+--------+---+----------+--------------------+----------------------+----------------------+--------------+-------------+-----+-------------+------------+---+----+\n",
            "|id_acidente|id_pessoa|      data|   dia_semana| horario| uf|rodovia_br|      causa_acidente|classificacao_acidente|condicao_metereologica|tipo_envolvido|estado_fisico|idade|         sexo|      regiao|mes| ano|\n",
            "+-----------+---------+----------+-------------+--------+---+----------+--------------------+----------------------+----------------------+--------------+-------------+-----+-------------+------------+---+----+\n",
            "|     272733|   609933|2020-03-02|segunda-feira|01:00:00| MA|       316|Ultrapassagem Ind...|    Com Vítimas Fatais|             Céu Claro|      Condutor|        Ileso|   46|    Masculino|    Nordeste|  3|2020|\n",
            "|     272746|   609473|2020-03-02|segunda-feira|04:30:00| SE|       101|Não Guardar Distâ...|   Com Vítimas Feridas|             Céu Claro|      Condutor| Lesões Leves|   54|    Masculino|    Nordeste|  3|2020|\n",
            "|     272746|   609468|2020-03-02|segunda-feira|04:30:00| SE|       101|Não Guardar Distâ...|   Com Vítimas Feridas|             Céu Claro|    Passageiro| Lesões Leves|   28|    Masculino|    Nordeste|  3|2020|\n",
            "|     272746|   609342|2020-03-02|segunda-feira|04:30:00| SE|       101|Não Guardar Distâ...|   Com Vítimas Feridas|             Céu Claro|      Condutor|        Ileso|   39|    Masculino|    Nordeste|  3|2020|\n",
            "|     272748|   609446|2020-03-02|segunda-feira|05:00:00| DF|        40|Ingestão de Álcoo...|           Sem Vítimas|               Nublado|      Condutor|        Ileso|   47|    Masculino|Centro-Oeste|  3|2020|\n",
            "|     272768|   608615|2020-03-02|segunda-feira|06:05:00| TO|       153|   Condutor Dormindo|           Sem Vítimas|             Céu Claro|      Condutor|        Ileso|   46|    Masculino|       Norte|  3|2020|\n",
            "|     272770|   611455|2020-03-02|segunda-feira|07:25:00| PE|       423|Falta de Atenção ...|    Com Vítimas Fatais|             Céu Claro|    Testemunha|Não Informado| null|Não Informado|    Nordeste|  3|2020|\n",
            "|     272770|   611254|2020-03-02|segunda-feira|07:25:00| PE|       423|Falta de Atenção ...|    Com Vítimas Fatais|             Céu Claro|      Condutor|        Ileso|   39|     Feminino|    Nordeste|  3|2020|\n",
            "|     272779|   608645|2020-03-02|segunda-feira|07:45:00| RS|       158|Falta de Atenção ...|   Com Vítimas Feridas|             Céu Claro|      Condutor|        Ileso|   60|    Masculino|         Sul|  3|2020|\n",
            "|     272792|   611998|2020-03-02|segunda-feira|07:30:00| PR|       116|Velocidade Incomp...|   Com Vítimas Feridas|               Nublado|      Condutor|        Ileso|   45|    Masculino|         Sul|  3|2020|\n",
            "+-----------+---------+----------+-------------+--------+---+----------+--------------------+----------------------+----------------------+--------------+-------------+-----+-------------+------------+---+----+\n",
            "only showing top 10 rows\n",
            "\n"
          ]
        }
      ]
    },
    {
      "cell_type": "code",
      "metadata": {
        "colab": {
          "base_uri": "https://localhost:8080/"
        },
        "id": "f40UTbxBv3lH",
        "outputId": "7c0b8804-2866-4511-e323-3e2040a3a03f"
      },
      "source": [
        "#RETORNA O NÚMERO DE ACIDENTES DISTINTOS\n",
        "\n",
        "df3.select(F.countDistinct(F.col('id_acidente')).alias('acidentes')).show(truncate=False)\n"
      ],
      "execution_count": null,
      "outputs": [
        {
          "output_type": "stream",
          "name": "stdout",
          "text": [
            "+---------+\n",
            "|acidentes|\n",
            "+---------+\n",
            "|130723   |\n",
            "+---------+\n",
            "\n"
          ]
        }
      ]
    },
    {
      "cell_type": "code",
      "metadata": {
        "colab": {
          "base_uri": "https://localhost:8080/"
        },
        "id": "3axGmL7bAHLW",
        "outputId": "f188287c-2480-4488-e4e4-e689d9e7fa80"
      },
      "source": [
        "#MÉDIA DE IDADE GERAL\n",
        "\n",
        "df3.select(F.round(F.avg('idade'),2).alias('media_idade_geral')).show()\n"
      ],
      "execution_count": null,
      "outputs": [
        {
          "output_type": "stream",
          "name": "stdout",
          "text": [
            "+-----------------+\n",
            "|media_idade_geral|\n",
            "+-----------------+\n",
            "|            39.51|\n",
            "+-----------------+\n",
            "\n"
          ]
        }
      ]
    },
    {
      "cell_type": "code",
      "metadata": {
        "colab": {
          "base_uri": "https://localhost:8080/"
        },
        "id": "vD1vj8iOD6xD",
        "outputId": "3cda2ee6-fbee-4cf6-d58a-6e59c928e6f5"
      },
      "source": [
        "#MÉDIA DE IDADE POR ESTADO\n",
        "\n",
        "df3.groupBy(F.col('uf')).avg('idade').select(F.col('uf'), F.round(F.col('avg(idade)'), 2).alias('media_idade')).show()\n"
      ],
      "execution_count": null,
      "outputs": [
        {
          "output_type": "stream",
          "name": "stdout",
          "text": [
            "+---+-----------+\n",
            "| uf|media_idade|\n",
            "+---+-----------+\n",
            "| SC|      38.01|\n",
            "| RO|      39.18|\n",
            "| PI|      38.48|\n",
            "| AM|      37.38|\n",
            "| RR|      39.46|\n",
            "| GO|      38.75|\n",
            "| TO|      37.37|\n",
            "| MT|      39.26|\n",
            "| SP|      41.15|\n",
            "| ES|      38.79|\n",
            "| PB|      39.49|\n",
            "| RS|      39.45|\n",
            "| MS|       38.9|\n",
            "| AL|      56.81|\n",
            "| MG|      40.02|\n",
            "| PA|      39.02|\n",
            "| BA|      40.29|\n",
            "| SE|      38.72|\n",
            "| PE|       40.0|\n",
            "| CE|      38.94|\n",
            "+---+-----------+\n",
            "only showing top 20 rows\n",
            "\n"
          ]
        }
      ]
    },
    {
      "cell_type": "markdown",
      "metadata": {
        "id": "9MY77TGLOFgM"
      },
      "source": [
        "**CARREGAMENTO PARA CSV**"
      ]
    },
    {
      "cell_type": "code",
      "metadata": {
        "colab": {
          "base_uri": "https://localhost:8080/"
        },
        "id": "2u8oVabiEzbJ",
        "outputId": "52ac9e62-7e6a-4dc9-f647-ea274bda3912"
      },
      "source": [
        "#20 - SALVANDO O ARQUIVO NORMALIZADO NO BUCKET\n",
        "\n",
        ".(df3.write.format(\"csv\").option(\"header\", \"true\")\n",
        "                        .option(\"inferschema\", \"true\")\n",
        "                        .option(\"delimiter\", \",\")\n",
        "                        .save(\"acidentes_pyspark\"))\n",
        "!gsutil cp -r acidentes_pyspark gs://notebooks_pyspark_sql_gp03"
      ],
      "execution_count": null,
      "outputs": [
        {
          "output_type": "stream",
          "name": "stdout",
          "text": [
            "Copying file://acidentes_pyspark/._SUCCESS.crc [Content-Type=application/octet-stream]...\n",
            "Copying file://acidentes_pyspark/part-00000-fac475b2-d2e8-48bb-835e-414b210612cc-c000.csv [Content-Type=text/csv]...\n",
            "Copying file://acidentes_pyspark/.part-00000-fac475b2-d2e8-48bb-835e-414b210612cc-c000.csv.crc [Content-Type=application/octet-stream]...\n",
            "Copying file://acidentes_pyspark/_SUCCESS [Content-Type=application/octet-stream]...\n",
            "- [4 files][ 48.7 MiB/ 48.7 MiB]                                                \n",
            "Operation completed over 4 objects/48.7 MiB.                                     \n"
          ]
        }
      ]
    },
    {
      "cell_type": "markdown",
      "metadata": {
        "id": "OzMPgbGSObH-"
      },
      "source": [
        "**CONSULTAS ESPECÍFICAS COM SPARKSQL**"
      ]
    },
    {
      "cell_type": "code",
      "metadata": {
        "id": "hnTrSRJ5WASL",
        "colab": {
          "base_uri": "https://localhost:8080/"
        },
        "outputId": "ad8d0ab4-d880-497b-cc4a-b82cd2f6e0b5"
      },
      "source": [
        "# CARREGA ARQUIVO\n",
        "!gsutil cp gs://notebooks_pyspark_sql_gp03/acidentes_pyspark/part-00000-fac475b2-d2e8-48bb-835e-414b210612cc-c000.csv /tmp/acidentes_pyspark.csv\n",
        "\n",
        "df = spark.read.csv('/tmp/acidentes_pyspark.csv', header=True, sep=\",\")\n",
        "# REGISTRA UMA TABELA TEMPORÁRIA\n",
        "df.createOrReplaceTempView(\"temp\")\n",
        "# SELECIONA TODOS OS DADOS DA TABELA TEMPORÁRIA\n",
        "spark.sql(\"select * from temp limit 5\").show()\n",
        "# Select count of data in table\n",
        "spark.sql(\"select count(*) as total_count from temp\").show()\n"
      ],
      "execution_count": null,
      "outputs": [
        {
          "output_type": "stream",
          "name": "stdout",
          "text": [
            "Copying gs://notebooks_pyspark_sql_gp03/acidentes_pyspark/part-00000-fac475b2-d2e8-48bb-835e-414b210612cc-c000.csv...\n",
            "/\n",
            "Operation completed over 1 objects/48.4 MiB.                                     \n",
            "+-----------+---------+----------+-----------+--------+---+----------+--------------------+----------------------+----------------------+--------------+-------------+-----+---------+------------+---+----+\n",
            "|id_acidente|id_pessoa|      data| dia_semana| horario| uf|rodovia_br|      causa_acidente|classificacao_acidente|condicao_metereologica|tipo_envolvido|estado_fisico|idade|     sexo|      regiao|mes| ano|\n",
            "+-----------+---------+----------+-----------+--------+---+----------+--------------------+----------------------+----------------------+--------------+-------------+-----+---------+------------+---+----+\n",
            "|     182256|   403856|2019-01-01|terça-feira|04:00:00| CE|       116|    Animais na Pista|           Sem Vítimas|                 Vento|      Condutor|        Ileso|   35|Masculino|    Nordeste|  1|2019|\n",
            "|     182263|   402859|2019-01-01|terça-feira|05:00:00| MT|       158|Defeito Mecânico ...|           Sem Vítimas|        Garoa/Chuvisco|      Condutor|        Ileso|   30|Masculino|Centro-Oeste|  1|2019|\n",
            "|     182277|   402850|2019-01-01|terça-feira|10:00:00| PA|        10|Velocidade Incomp...|           Sem Vítimas|               Nublado|      Condutor|        Ileso|   54|Masculino|       Norte|  1|2019|\n",
            "|     182289|   402431|2019-01-01|terça-feira|08:30:00| BA|       101|Ingestão de Álcoo...|   Com Vítimas Feridas|             Céu Claro|      Condutor|        Ileso|   43|Masculino|    Nordeste|  1|2019|\n",
            "|     182307|   402642|2019-01-01|terça-feira|13:50:00| BA|       116|Ingestão de Álcoo...|   Com Vítimas Feridas|             Céu Claro|    Passageiro|Lesões Graves|   37|Masculino|    Nordeste|  1|2019|\n",
            "+-----------+---------+----------+-----------+--------+---+----------+--------------------+----------------------+----------------------+--------------+-------------+-----+---------+------------+---+----+\n",
            "\n",
            "+-----------+\n",
            "|total_count|\n",
            "+-----------+\n",
            "|     309281|\n",
            "+-----------+\n",
            "\n"
          ]
        }
      ]
    },
    {
      "cell_type": "code",
      "metadata": {
        "colab": {
          "base_uri": "https://localhost:8080/"
        },
        "id": "rujlnHm1clMv",
        "outputId": "66119d76-bcc3-4901-e29e-2395be7fef07"
      },
      "source": [
        "# TOTAL DE ACIDENTES POR ANO\n",
        "\n",
        "spark.sql(\"SELECT COUNT(DISTINCT id_acidente) AS total_2019 FROM temp WHERE ano = 2019\").show()\n",
        "spark.sql(\"SELECT COUNT(DISTINCT id_acidente) AS total_2020 FROM temp WHERE ano = 2020\").show()"
      ],
      "execution_count": null,
      "outputs": [
        {
          "output_type": "stream",
          "name": "stdout",
          "text": [
            "+----------+\n",
            "|total_2019|\n",
            "+----------+\n",
            "|     67351|\n",
            "+----------+\n",
            "\n",
            "+----------+\n",
            "|total_2020|\n",
            "+----------+\n",
            "|     63372|\n",
            "+----------+\n",
            "\n"
          ]
        }
      ]
    },
    {
      "cell_type": "code",
      "metadata": {
        "colab": {
          "base_uri": "https://localhost:8080/"
        },
        "id": "npEoOnZKXUNc",
        "outputId": "b71e13e3-5a70-4e4e-8c95-1160ae3a2bb9"
      },
      "source": [
        "# CONTA NÚMERO DE ACIDENTES POR MÊS DE JANEIRO A SETEMBRO EM 2019 E 2020\n",
        "\n",
        "\n",
        "spark.sql(\"SELECT mes, COUNT(DISTINCT id_acidente) AS total_2019 FROM temp WHERE ano = 2019 AND mes BETWEEN 1 and 9 GROUP BY mes ORDER BY mes\").show()\n",
        "spark.sql(\"SELECT mes, COUNT(DISTINCT id_acidente) AS total_2020 FROM temp WHERE ano = 2020 AND mes BETWEEN 1 and 9 GROUP BY mes ORDER BY mes\").show()"
      ],
      "execution_count": null,
      "outputs": [
        {
          "output_type": "stream",
          "name": "stdout",
          "text": [
            "+---+----------+\n",
            "|mes|total_2019|\n",
            "+---+----------+\n",
            "|  1|      5114|\n",
            "|  2|      4959|\n",
            "|  3|      5590|\n",
            "|  4|      5418|\n",
            "|  5|      5459|\n",
            "|  6|      5572|\n",
            "|  7|      5786|\n",
            "|  8|      5698|\n",
            "|  9|      5863|\n",
            "+---+----------+\n",
            "\n",
            "+---+----------+\n",
            "|mes|total_2020|\n",
            "+---+----------+\n",
            "|  1|      5483|\n",
            "|  2|      5461|\n",
            "|  3|      4783|\n",
            "|  4|      3873|\n",
            "|  5|      4641|\n",
            "|  6|      4720|\n",
            "|  7|      5111|\n",
            "|  8|      5622|\n",
            "|  9|      5670|\n",
            "+---+----------+\n",
            "\n"
          ]
        }
      ]
    },
    {
      "cell_type": "code",
      "metadata": {
        "id": "tOe-Za6SPmtk"
      },
      "source": [
        ""
      ],
      "execution_count": null,
      "outputs": []
    }
  ]
}